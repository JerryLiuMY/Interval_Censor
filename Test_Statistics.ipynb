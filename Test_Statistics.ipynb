{
 "cells": [
  {
   "cell_type": "code",
   "execution_count": 1,
   "id": "870bbe5f",
   "metadata": {},
   "outputs": [
    {
     "name": "stdout",
     "output_type": "stream",
     "text": [
      "Usk: 31691.794388600956\n"
     ]
    }
   ],
   "source": [
    "import numpy as np\n",
    "\n",
    "# Define example input variables and data\n",
    "M = 100  # Number of subjects (example value)\n",
    "Vk = 50  # Number of time points (example value)\n",
    "delta = np.random.choice([0, 1], M)  # Example delta values\n",
    "dN = np.random.rand(M, Vk)  # Example transition counts\n",
    "Y = np.random.rand(M, Vk)  # Example at-risk counts\n",
    "r = np.random.rand(M)  # Example state transition times\n",
    "w = np.random.rand(M)  # Example right-censoring times\n",
    "t = np.linspace(0, 1, Vk)  # Example time points\n",
    "\n",
    "def compute_Usk(delta, dN, Y, r, w, s, t):\n",
    "    Vk = len(t)\n",
    "    M = len(delta)\n",
    "    \n",
    "    Usk = 0\n",
    "    for v in range(Vk):\n",
    "        sum1 = sum(delta[i] * dN[i, v] for i in range(M) if s <= r[i])\n",
    "        sum2 = sum(delta[i] * Y[i, v] for i in range(M) if s <= r[i])\n",
    "        sum3 = sum(dN[i, v] for i in range(M))\n",
    "        sum4 = sum(Y[i, v] for i in range(M))\n",
    "        \n",
    "        term = sum1 - (sum2 * sum3 / sum4)\n",
    "        Usk += term\n",
    "\n",
    "    return Usk\n",
    "\n",
    "def compute_sums(delta, dN, Y, r, w, s, t):\n",
    "    Vk = len(t)\n",
    "    M = len(delta)\n",
    "    \n",
    "    sum_dN = np.zeros(Vk)\n",
    "    sum_Y = np.zeros(Vk)\n",
    "    sum_delta_Y = np.zeros(Vk)\n",
    "    \n",
    "    for v in range(Vk):\n",
    "        for i in range(M):\n",
    "            if s <= r[i]:\n",
    "                sum_dN[v] += dN[i, v]\n",
    "                sum_Y[v] += Y[i, v]\n",
    "            sum_delta_Y[v] += delta[i] * Y[i, v]\n",
    "    \n",
    "    return sum_dN, sum_Y, sum_delta_Y\n",
    "\n",
    "def compute_test_statistic(delta, dN, Y, r, w, s, t):\n",
    "    Vk = len(t)\n",
    "    M = len(delta)\n",
    "    \n",
    "    Usk = 0\n",
    "    for v in range(Vk):\n",
    "        sum_dN, sum_Y, sum_delta_Y = compute_sums(delta, dN, Y, r, w, s, t)\n",
    "        \n",
    "        term = sum_delta_Y[v] * sum_dN[v] - (sum_delta_Y[v] * sum_dN[v] / sum_Y[v])\n",
    "        Usk += term\n",
    "\n",
    "    return Usk\n",
    "\n",
    "# Example s value\n",
    "s = 0.5\n",
    "\n",
    "# Compute Usk for given s and t\n",
    "Usk = compute_test_statistic(delta, dN, Y, r, w, s, t)\n",
    "print(\"Usk:\", Usk)"
   ]
  },
  {
   "cell_type": "code",
   "execution_count": null,
   "id": "afdcc918",
   "metadata": {},
   "outputs": [],
   "source": []
  }
 ],
 "metadata": {
  "kernelspec": {
   "display_name": "Python 3 (ipykernel)",
   "language": "python",
   "name": "python3"
  },
  "language_info": {
   "codemirror_mode": {
    "name": "ipython",
    "version": 3
   },
   "file_extension": ".py",
   "mimetype": "text/x-python",
   "name": "python",
   "nbconvert_exporter": "python",
   "pygments_lexer": "ipython3",
   "version": "3.8.19"
  }
 },
 "nbformat": 4,
 "nbformat_minor": 5
}
